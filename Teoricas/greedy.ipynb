{
 "cells": [
  {
   "cell_type": "markdown",
   "id": "6fc1a4ce",
   "metadata": {},
   "source": [
    "### El problema de la mochila 0-1"
   ]
  },
  {
   "cell_type": "code",
   "execution_count": 5,
   "id": "184f3c96",
   "metadata": {},
   "outputs": [
    {
     "name": "stdout",
     "output_type": "stream",
     "text": [
      "Obtuve un optimo de 27 con 520 llamados\n"
     ]
    }
   ],
   "source": [
    "contador_llamados = 0\n",
    "\n",
    "def mochila_fuerzabruta(pesos, beneficios, capacidad):\n",
    "    global contador_llamados\n",
    "    contador_llamados += 1\n",
    "    if len(pesos) == 0 or capacidad == 0:\n",
    "        return 0\n",
    "    else:    \n",
    "        if pesos[0] > capacidad:\n",
    "            return mochila_fuerzabruta(pesos[1:], beneficios[1:], capacidad)\n",
    "        else:\n",
    "            lopongo = beneficios[0] + mochila_fuerzabruta(pesos[1:], beneficios[1:], capacidad - pesos[0])\n",
    "            nolopongo = mochila_fuerzabruta(pesos[1:], beneficios[1:], capacidad)\n",
    "            lomejor = max(lopongo, nolopongo)\n",
    "            return lomejor\n",
    "\n",
    "pesos = [9, 5, 3, 2, 5, 3, 1, 10, 1, 1, 1]\n",
    "beneficios = [20, 15, 5, 6, 2, 5, 2, 12, 2, 2, 2]\n",
    "\n",
    "optimo = mochila_fuerzabruta(pesos, beneficios, 10)\n",
    "print(\"Obtuve un optimo de\", optimo, \"con\", contador_llamados, \"llamados\")"
   ]
  },
  {
   "cell_type": "markdown",
   "id": "7ac09b9f",
   "metadata": {},
   "source": [
    "Vimos una solución por fuerza bruta, que es exponencial. \n",
    "Se deja como ejercicio implementar una solución por programación dinámica, y evaluar su eficiencia.\n",
    "\n",
    "Ahora veamos unas soluciones greedy."
   ]
  },
  {
   "cell_type": "code",
   "execution_count": 10,
   "id": "c7284d13",
   "metadata": {},
   "outputs": [
    {
     "name": "stdout",
     "output_type": "stream",
     "text": [
      "Según la heurística: Más livianos primero\n",
      "Obtuve un valor de 19.0 con 33 operaciones\n",
      "El óptimo por fuerza bruta era de 27 obtenido con 520 llamados recursivos\n",
      "\n",
      "Según la heurística: Más caros primero\n",
      "Obtuve un valor de 20.0 con 28 operaciones\n",
      "El óptimo por fuerza bruta era de 27 obtenido con 520 llamados recursivos\n",
      "\n",
      "Según la heurística: Mayor beneficio sobre peso\n",
      "Obtuve un valor de 21.0 con 29 operaciones\n",
      "El óptimo por fuerza bruta era de 27 obtenido con 520 llamados recursivos\n"
     ]
    }
   ],
   "source": [
    "import numpy as np\n",
    "\n",
    "pesos = np.array(pesos)\n",
    "beneficios = np.array(beneficios)\n",
    "\n",
    "# Greedy 1: más livianos primero\n",
    "def mochila_greedy_1(pesos, beneficios, capacidad):\n",
    "    contador_operaciones = 0\n",
    "    orden = np.argsort(pesos)\n",
    "\n",
    "    contador_operaciones += len(pesos) * np.log(len(pesos))\n",
    "    beneficio_acumulado = 0\n",
    "    for ind in range(len(pesos)):\n",
    "        contador_operaciones += 1\n",
    "        if pesos[orden[ind]] > capacidad:\n",
    "            return float(beneficio_acumulado), contador_operaciones\n",
    "        else:\n",
    "            capacidad -= pesos[orden[ind]]\n",
    "            beneficio_acumulado += beneficios[orden[ind]]\n",
    "    return float(beneficio_acumulado), contador_operaciones\n",
    "\n",
    "# Greedy 2: más caros primero\n",
    "def mochila_greedy_2(pesos, beneficios, capacidad):\n",
    "    contador_operaciones = 0\n",
    "    orden = np.argsort(beneficios)[::-1]\n",
    "\n",
    "    contador_operaciones += len(pesos) * np.log(len(pesos))\n",
    "    beneficio_acumulado = 0\n",
    "    for ind in range(len(pesos)):\n",
    "        contador_operaciones += 1\n",
    "        if pesos[orden[ind]] > capacidad:\n",
    "            return float(beneficio_acumulado), contador_operaciones\n",
    "        else:\n",
    "            capacidad -= pesos[orden[ind]]\n",
    "            beneficio_acumulado += beneficios[orden[ind]]\n",
    "    return float(beneficio_acumulado), contador_operaciones\n",
    "\n",
    "# Greedy 3: mejor beneficio/peso\n",
    "def mochila_greedy_3(pesos, beneficios, capacidad):\n",
    "    contador_operaciones = 0\n",
    "    orden = np.argsort(beneficios / pesos)[::-1]\n",
    "\n",
    "    contador_operaciones += len(pesos) * np.log(len(pesos))\n",
    "    beneficio_acumulado = 0\n",
    "    for ind in range(len(pesos)):\n",
    "        contador_operaciones += 1\n",
    "        if pesos[orden[ind]] > capacidad:\n",
    "            return float(beneficio_acumulado), contador_operaciones\n",
    "        else:\n",
    "            capacidad -= pesos[orden[ind]]\n",
    "            beneficio_acumulado += beneficios[orden[ind]]\n",
    "    return float(beneficio_acumulado), contador_operaciones\n",
    "\n",
    "\n",
    "resultado_greedy_1, operaciones_1 = mochila_greedy_1(pesos, beneficios, 10)\n",
    "resultado_greedy_2, operaciones_2 = mochila_greedy_2(pesos, beneficios, 10)\n",
    "resultado_greedy_3, operaciones_3 = mochila_greedy_3(pesos, beneficios, 10)\n",
    "\n",
    "print(\"Según la heurística: Más livianos primero\")\n",
    "print(\"Obtuve un valor de\", resultado_greedy_1, \"con\", int(operaciones_1), \"operaciones\")\n",
    "print(\"El óptimo por fuerza bruta era de\", optimo, \"obtenido con\", contador_llamados, \"llamados recursivos\\n\")\n",
    "\n",
    "print(\"Según la heurística: Más caros primero\")\n",
    "print(\"Obtuve un valor de\", resultado_greedy_2, \"con\", int(operaciones_2), \"operaciones\")\n",
    "print(\"El óptimo por fuerza bruta era de\", optimo, \"obtenido con\", contador_llamados, \"llamados recursivos\\n\")\n",
    "\n",
    "print(\"Según la heurística: Mayor beneficio sobre peso\")\n",
    "print(\"Obtuve un valor de\", resultado_greedy_3, \"con\", int(operaciones_3), \"operaciones\")\n",
    "print(\"El óptimo por fuerza bruta era de\", optimo, \"obtenido con\", contador_llamados, \"llamados recursivos\")\n"
   ]
  },
  {
   "cell_type": "markdown",
   "id": "37003fae",
   "metadata": {},
   "source": [
    "Observamos que greedy no es óptimo en este caso, pero puede darnos una solución rápida y aceptable.\n",
    "\n",
    "Un ejercicio a realizar sencillo sería generar muchos casos de testeo aleatorios, y comparar las soluciones greedy con la solución óptima por fuerza bruta.\n",
    "Luego, medir el tiempo de ejecución y la calidad de la solución (qué tan cerca está del óptimo) en un benchmark para cada heurística greedy."
   ]
  },
  {
   "cell_type": "markdown",
   "id": "d0332559",
   "metadata": {},
   "source": [
    "### Ejemplo de tiempos de espera"
   ]
  },
  {
   "cell_type": "markdown",
   "id": "89bccd0c",
   "metadata": {},
   "source": [
    "Como calculamos la espera total del sistema:"
   ]
  },
  {
   "cell_type": "code",
   "execution_count": 12,
   "id": "f6607125",
   "metadata": {},
   "outputs": [
    {
     "name": "stdout",
     "output_type": "stream",
     "text": [
      "[0.5] 0\n",
      "[0.5, 1] 0.5\n",
      "[0.5, 1, 0.25] 2.0\n",
      "[0.5, 1, 0.25, 2] 3.75\n"
     ]
    },
    {
     "data": {
      "text/plain": [
       "7.5"
      ]
     },
     "execution_count": 12,
     "metadata": {},
     "output_type": "execute_result"
    }
   ],
   "source": [
    "tiempos = [0.5, 1, 0.25, 2, 0.75]\n",
    "\n",
    "tiempo_de_espera = 0\n",
    "for i in range(1, len(tiempos)):\n",
    "    tiempos_a_sumar = tiempos[:i]\n",
    "    print(tiempos_a_sumar, tiempo_de_espera)\n",
    "    tiempo_de_espera += sum(tiempos_a_sumar)\n",
    "tiempo_de_espera"
   ]
  },
  {
   "cell_type": "markdown",
   "id": "244bd8ed",
   "metadata": {},
   "source": [
    "Implementaciones Greedy y Fuerza Bruta.\n",
    "\n",
    "En este caso el algoritmo greedy es óptimo!"
   ]
  },
  {
   "cell_type": "code",
   "execution_count": 13,
   "id": "4995d758",
   "metadata": {},
   "outputs": [
    {
     "name": "stdout",
     "output_type": "stream",
     "text": [
      "Obtuve 17.240000000000002 por fuerza bruta en 986410\n",
      "Obtuve 17.240000000000002 por greedy en 27\n"
     ]
    }
   ],
   "source": [
    "contador_llamados = 0\n",
    "\n",
    "def fuerzabruta(tiempos):\n",
    "    global contador_llamados\n",
    "    contador_llamados+=1\n",
    "    if len(tiempos) == 0:\n",
    "        return 0\n",
    "    \n",
    "    valores = []\n",
    "    \n",
    "    for i in range(0, len(tiempos)):\n",
    "        valor = fuerzabruta(tiempos[:i] + tiempos[(i+1):]) + tiempos[i] * (len(tiempos) - 1)\n",
    "        valores.append(valor)\n",
    "        \n",
    "    return min(valores)\n",
    "\n",
    "contador_iteraciones = 0\n",
    "def greedy(tiempos):\n",
    "    global contador_iteraciones\n",
    "    tiempos = sorted(tiempos)\n",
    "    contador_iteraciones += int(len(tiempos) * np.log(len(tiempos)))\n",
    "    tiempo_de_espera = 0\n",
    "    for i in range(1, len(tiempos)):\n",
    "        contador_iteraciones += 1\n",
    "        tiempos_a_sumar = tiempos[:i]\n",
    "        tiempo_de_espera += sum(tiempos_a_sumar)\n",
    "    return tiempo_de_espera\n",
    "\n",
    "tiempos = [0.5, 1, 0.25, 2, 0.75, 0.23, 0.5, 1.5, 0.6]\n",
    "\n",
    "optimofb = fuerzabruta(tiempos)    \n",
    "optimogreedy = greedy(tiempos)\n",
    "\n",
    "print(\"Obtuve\", optimofb, \"por fuerza bruta en\", contador_llamados)\n",
    "print(\"Obtuve\", optimogreedy, \"por greedy en\", contador_iteraciones)\n",
    "\n"
   ]
  },
  {
   "cell_type": "markdown",
   "id": "60c19849",
   "metadata": {},
   "source": [
    "### Ejemplo final: gestión de clases en un aula"
   ]
  },
  {
   "cell_type": "code",
   "execution_count": 18,
   "id": "bf294427",
   "metadata": {},
   "outputs": [
    {
     "name": "stdout",
     "output_type": "stream",
     "text": [
      "Cantidad de actividades 26\n",
      "Obtuve 5 por backtracking en 435 llamados\n",
      "Obtuve 5 por greedy en 109\n"
     ]
    }
   ],
   "source": [
    "actividades = [[9, 11], [10, 12], [8, 9], [8, 15], [11, 13], [10, 15], [11, 12], [9, 15], [13, 18], \n",
    "               [9, 13], [10, 14], [12, 16], [14, 17], [15, 18], [16, 19], [18,19], [14,19], [9,17],\n",
    "               [9, 18], [10, 16], [13, 18], [12, 19], [14, 19], [15, 19], [16, 20], [14, 16]]\n",
    "\n",
    "contador_llamados = 0\n",
    "def backtracking(actividades, fin_anterior = 0):\n",
    "    global contador_llamados\n",
    "    contador_llamados+=1\n",
    "\n",
    "    if len(actividades) == 0:\n",
    "        return 0\n",
    "    \n",
    "    valores = [0]\n",
    "    \n",
    "    for i in range(0, len(actividades)):\n",
    "        principio, fin_nueva = actividades[i]\n",
    "        if principio >= fin_anterior:\n",
    "            valor = 1 + backtracking(actividades[:i] + actividades[(i+1):], fin_nueva)\n",
    "            valores.append(valor)\n",
    "        else:\n",
    "            valores.append(0)\n",
    "                \n",
    "    return max(valores)\n",
    "\n",
    "print(\"Cantidad de actividades\", len(actividades))\n",
    "optimofb = backtracking(actividades, 0)\n",
    "print(\"Obtuve\", optimofb, \"por backtracking en\", contador_llamados, \"llamados\")\n",
    "\n",
    "contador_iteraciones = 0\n",
    "\n",
    "def greedy(actividades):\n",
    "    global contador_iteraciones\n",
    "    actividades = np.array(actividades)\n",
    "    orden_fin = np.argsort(actividades[:, 1])\n",
    "    contador_iteraciones += int(len(actividades) * np.log(len(actividades)))    \n",
    "    total = 1\n",
    "    fin_ultima = actividades[orden_fin[0]][1]\n",
    "    \n",
    "    for i in range(1, len(actividades)):\n",
    "        contador_iteraciones += 1\n",
    "        principio_nueva, fin_nueva = actividades[orden_fin[i]]\n",
    "        if principio_nueva >= fin_ultima:\n",
    "            total+=1\n",
    "            fin_ultima = fin_nueva\n",
    "            \n",
    "    return total\n",
    "\n",
    "optimogreedy = greedy(actividades)\n",
    "\n",
    "print(\"Obtuve\", optimogreedy, \"por greedy en\", contador_iteraciones)"
   ]
  },
  {
   "cell_type": "markdown",
   "id": "219e3f3c",
   "metadata": {},
   "source": [
    "Notemos que en este caso el algoritmo de backtracking propuesto tiene una poda importante, por lo que no crece demasiado rápido.\n",
    "Pueden probar y comparar con una solución por fuerza bruta (generando todas las combinaciones posibles)."
   ]
  },
  {
   "cell_type": "markdown",
   "id": "db3903a0",
   "metadata": {},
   "source": []
  }
 ],
 "metadata": {
  "kernelspec": {
   "display_name": "base",
   "language": "python",
   "name": "python3"
  },
  "language_info": {
   "codemirror_mode": {
    "name": "ipython",
    "version": 3
   },
   "file_extension": ".py",
   "mimetype": "text/x-python",
   "name": "python",
   "nbconvert_exporter": "python",
   "pygments_lexer": "ipython3",
   "version": "3.12.1"
  }
 },
 "nbformat": 4,
 "nbformat_minor": 5
}
